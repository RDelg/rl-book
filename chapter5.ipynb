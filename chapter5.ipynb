{
  "nbformat": 4,
  "nbformat_minor": 0,
  "metadata": {
    "colab": {
      "name": "rl-book-charpter5.ipynb",
      "provenance": [],
      "collapsed_sections": [],
      "authorship_tag": "ABX9TyP4om+shegW2pnqjwzanAmJ",
      "include_colab_link": true
    },
    "kernelspec": {
      "name": "python3",
      "display_name": "Python 3"
    }
  },
  "cells": [
    {
      "cell_type": "markdown",
      "metadata": {
        "id": "view-in-github",
        "colab_type": "text"
      },
      "source": [
        "<a href=\"https://colab.research.google.com/github/RDelg/rl-book/blob/master/chapter5.ipynb\" target=\"_parent\"><img src=\"https://colab.research.google.com/assets/colab-badge.svg\" alt=\"Open In Colab\"/></a>"
      ]
    },
    {
      "cell_type": "code",
      "metadata": {
        "id": "sjtsFOcXZpMw",
        "colab_type": "code",
        "colab": {}
      },
      "source": [
        "import numpy as np\n",
        "from numpy import random"
      ],
      "execution_count": 1,
      "outputs": []
    },
    {
      "cell_type": "code",
      "metadata": {
        "id": "zL54MG_hZ5ak",
        "colab_type": "code",
        "colab": {}
      },
      "source": [
        "class BlackJack():\n",
        "    \n",
        "    _CARDS = {\n",
        "        '_1': 1,\n",
        "        '_2': 2,\n",
        "        '_3': 3,\n",
        "        '_4': 4,\n",
        "        '_5': 5,\n",
        "        '_6': 6,\n",
        "        '_7': 7,\n",
        "        '_8': 8,\n",
        "        '_9': 9,\n",
        "        '_J': 10,\n",
        "        '_Q': 10,\n",
        "        '_K': 10,\n",
        "        '_A': 1\n",
        "    }\n",
        "\n",
        "    @staticmethod\n",
        "    def get_card():\n",
        "        return random.choice(list(BlackJack._CARDS.keys()))\n",
        "    \n",
        "    def __init__(self):\n",
        "        self.reset()\n",
        "    \n",
        "    def reset(self):\n",
        "        # Dealer\n",
        "        self.dealer_card =  self.get_card()\n",
        "        self._dealer_usable_ace = self.dealer_card == '_A'\n",
        "        # Player\n",
        "        self.player_sum = 0\n",
        "        self.usable_ace = False\n",
        "        self.player_sum, self.usable_ace = self.hit(self.player_sum, self.usable_ace)\n",
        "        self.player_sum, self.usable_ace = self.hit(self.player_sum, self.usable_ace)\n",
        "\n",
        "    @staticmethod\n",
        "    def hit(current_sum: int, usable_ace: bool):\n",
        "        card = BlackJack.get_card()\n",
        "        if card == '_A' and current_sum < 11:\n",
        "            current_sum += 11\n",
        "            usable_ace = True\n",
        "        else:\n",
        "            current_sum += BlackJack._CARDS[card]\n",
        "            if current_sum > 21 and usable_ace:\n",
        "                current_sum -= 10\n",
        "                usable_ace = False\n",
        "        return current_sum, usable_ace\n",
        "    \n",
        "    def sticks(self):\n",
        "        dealer_sum = 11 if self._dealer_usable_ace else BlackJack._CARDS[self.dealer_card]\n",
        "        while dealer_sum < 17:\n",
        "            dealer_sum, self._dealer_usable_ace =  self.hit(dealer_sum, self._dealer_usable_ace)\n",
        "        return dealer_sum, self._dealer_usable_ace\n",
        "\n",
        "    @staticmethod\n",
        "    def _rules(sum):\n",
        "        if sum > 21:\n",
        "            return -1 # Bust\n",
        "        else:\n",
        "            return 0 # Nothing happens\n",
        "\n",
        "    def step(self, action):\n",
        "        if action == 0:\n",
        "            self.player_sum, self.usable_ace = self.hit(self.player_sum, self.usable_ace)\n",
        "            if self._rules(self.player_sum) == -1:\n",
        "                return True, -1, None\n",
        "            else:\n",
        "                return False, 0, (self.player_sum, self.usable_ace, self.dealer_card)\n",
        "        elif action == 1:\n",
        "            dealer_sum, _ = self.sticks()\n",
        "            if self._rules(dealer_sum) == -1:\n",
        "                return True, 1, None\n",
        "            elif dealer_sum == self.player_sum:\n",
        "                return True, 0, None\n",
        "            elif dealer_sum < self.player_sum:\n",
        "                return True, 1, None\n",
        "            else:\n",
        "                return True, 0, None\n",
        "        else:\n",
        "            raise Exception('Invalid action')"
      ],
      "execution_count": 4,
      "outputs": []
    },
    {
      "cell_type": "code",
      "metadata": {
        "id": "H5_c2zrscgBQ",
        "colab_type": "code",
        "colab": {
          "base_uri": "https://localhost:8080/",
          "height": 35
        },
        "outputId": "84eb3457-4359-4888-fa1e-74edaacb25a3"
      },
      "source": [
        "g = BlackJack()\n",
        "g.step(0)"
      ],
      "execution_count": 8,
      "outputs": [
        {
          "output_type": "execute_result",
          "data": {
            "text/plain": [
              "(True, -1, None)"
            ]
          },
          "metadata": {
            "tags": []
          },
          "execution_count": 8
        }
      ]
    },
    {
      "cell_type": "code",
      "metadata": {
        "id": "U13ufNqynats",
        "colab_type": "code",
        "colab": {}
      },
      "source": [
        ""
      ],
      "execution_count": 3,
      "outputs": []
    }
  ]
}