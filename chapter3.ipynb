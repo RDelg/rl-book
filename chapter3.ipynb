{
  "nbformat": 4,
  "nbformat_minor": 0,
  "metadata": {
    "colab": {
      "name": "chapter3.ipynb",
      "provenance": [],
      "collapsed_sections": [],
      "toc_visible": true,
      "authorship_tag": "ABX9TyOwpH4WN0DjOMSGI7Gck5fw",
      "include_colab_link": true
    },
    "kernelspec": {
      "name": "python3",
      "display_name": "Python 3"
    }
  },
  "cells": [
    {
      "cell_type": "markdown",
      "metadata": {
        "id": "view-in-github",
        "colab_type": "text"
      },
      "source": [
        "<a href=\"https://colab.research.google.com/github/RDelg/rl-book/blob/master/chapter3.ipynb\" target=\"_parent\"><img src=\"https://colab.research.google.com/assets/colab-badge.svg\" alt=\"Open In Colab\"/></a>"
      ]
    },
    {
      "cell_type": "code",
      "metadata": {
        "id": "FtTRwQYjkcw_",
        "colab_type": "code",
        "colab": {}
      },
      "source": [
        "import pandas as pd\n",
        "import numpy as np\n",
        "import matplotlib.pyplot as plt\n",
        "from matplotlib.table import Table"
      ],
      "execution_count": 0,
      "outputs": []
    },
    {
      "cell_type": "code",
      "metadata": {
        "id": "IUYm6JltkrDJ",
        "colab_type": "code",
        "colab": {}
      },
      "source": [
        "class Maze(object):\n",
        "    \n",
        "    actions = [\n",
        "        np.array([-1, 0]),\n",
        "        np.array([1, 0]),\n",
        "        np.array([0, -1]),\n",
        "        np.array([0, 1])\n",
        "    ]\n",
        "\n",
        "    def __init__(self, shape: tuple, init_state: np.ndarray = np.array([0,0])):\n",
        "        assert len(shape) == 2, \\\n",
        "            \"shape must be 2d\"\n",
        "        assert len(init_state) == 2, \\\n",
        "            \"init_state shape must be 2d\"\n",
        "        assert init_state[0] >= 0 and init_state[1] >= 0, \\\n",
        "            \"init_state must be positive\"\n",
        "        assert init_state[0] < shape[0] and init_state[1] < shape[1], \\\n",
        "            \"init_state must be inside shape\"\n",
        "        self.rewards = np.zeros(shape=shape)\n",
        "        self.hops = []\n",
        "        self.state = init_state\n",
        "        (self.n, self.m) = shape\n",
        "\n",
        "    def add_reward(self, state: np.ndarray, reward: float):\n",
        "        assert len(state) == 2, \\\n",
        "            \"state shape must be 2d\"\n",
        "        self.rewards[state[0], state[1]] = reward\n",
        "    \n",
        "    def add_hop(self, state: np.ndarray, new_state: np.ndarray):\n",
        "        assert len(state) == 2, \\\n",
        "            \"state shape must be 2d\"\n",
        "        assert len(new_state) == 2, \\\n",
        "            \"state shape must be 2d\"\n",
        "        self.hops.append({'old_state': state, 'new_state': new_state})\n",
        "    \n",
        "    def set_state(self, state: np.ndarray):\n",
        "        assert len(state) == 2, \\\n",
        "            \"state shape must be 2d\"\n",
        "        self.state = state\n",
        "    \n",
        "    def step(self, action: np.ndarray):\n",
        "        assert len(action) == 2, \\\n",
        "            \"action shape must be 2d\"\n",
        "        current_state = self.state\n",
        "        for hop in self.hops:\n",
        "            if (self.state == hop['old_state']).all():\n",
        "                self.state = hop['new_state']\n",
        "                return self.rewards[current_state[0], current_state[1]]\n",
        "        new_state = self.state + action\n",
        "        if new_state[0] < 0 or new_state[0] >= self.n or new_state[1] < 0 or new_state[1] >= self.m:\n",
        "            new_state = current_state\n",
        "            reward = -1.0\n",
        "        else:\n",
        "            reward = self.rewards[current_state[0], current_state[1]]\n",
        "        self.state = new_state\n",
        "        return reward"
      ],
      "execution_count": 0,
      "outputs": []
    },
    {
      "cell_type": "code",
      "metadata": {
        "id": "9d6qfoQ3UWZY",
        "colab_type": "code",
        "colab": {}
      },
      "source": [
        "class ValueLearner(object):\n",
        "    def __init__(self, maze: Maze, discount: float, random: bool = True):\n",
        "        self.maze = maze\n",
        "        self.random = random\n",
        "        self.value = np.zeros(shape=(maze.n, maze.m))\n",
        "        self.discount = discount\n",
        "    \n",
        "    def update_value(self):\n",
        "        new_value = np.zeros_like(self.value)\n",
        "        values = np.zeros(shape=len(self.maze.actions))\n",
        "        for i in range(self.value.shape[0]):\n",
        "            for j in range(self.value.shape[1]):\n",
        "                for z, action in enumerate(self.maze.actions):\n",
        "                    self.maze.set_state(np.array([i, j]))\n",
        "                    reward = self.maze.step(action)\n",
        "                    if self.random:\n",
        "                        new_value[i, j] += 1.0/len(self.maze.actions) * \\\n",
        "                            (reward + self.discount * self.value[self.maze.state[0], self.maze.state[1]])\n",
        "                    else:\n",
        "                        values[z] = reward + self.discount * \\\n",
        "                            self.value[self.maze.state[0], self.maze.state[1]]\n",
        "                if not self.random:\n",
        "                    new_value[i, j] = np.max(values)\n",
        "        self.value = new_value\n",
        "\n",
        "    def plot_value(self):\n",
        "        rounded_value = np.round(self.value, decimals=2)\n",
        "        fig, ax = plt.subplots()\n",
        "        ax.set_axis_off()\n",
        "        tb = Table(ax, bbox=[0, 0, 1, 1])\n",
        "\n",
        "        nrows, ncols = rounded_value.shape\n",
        "        width, height = 1.0 / ncols, 1.0 / nrows\n",
        "\n",
        "        for (i, j), val in np.ndenumerate(rounded_value):\n",
        "            tb.add_cell(i, j, width, height, text=val,\n",
        "                        loc='center', facecolor='white')\n",
        "\n",
        "        for i in range(len(rounded_value)):\n",
        "            tb.add_cell(i, -1, width, height, text=i+1, loc='right',\n",
        "                        edgecolor='none', facecolor='none')\n",
        "            tb.add_cell(-1, i, width, height/2, text=i+1, loc='center',\n",
        "                        edgecolor='none', facecolor='none')\n",
        "\n",
        "        ax.add_table(tb)"
      ],
      "execution_count": 0,
      "outputs": []
    },
    {
      "cell_type": "code",
      "metadata": {
        "id": "UySaoOdIl0Y4",
        "colab_type": "code",
        "colab": {}
      },
      "source": [
        "def figure_3_2(maze):\n",
        "    learner = ValueLearner(maze=maze, discount=DISCOUNT, random=True)\n",
        "    while True:\n",
        "        value = learner.value.copy()\n",
        "        learner.update_value()\n",
        "        new_value = learner.value\n",
        "        if np.sum(np.abs(value - new_value)) < 1e-4:\n",
        "            learner.plot_value()\n",
        "            break"
      ],
      "execution_count": 0,
      "outputs": []
    },
    {
      "cell_type": "code",
      "metadata": {
        "id": "6Ru7vrhcCsln",
        "colab_type": "code",
        "colab": {}
      },
      "source": [
        "def figure_3_5(maze):\n",
        "    learner = ValueLearner(maze=maze, discount=DISCOUNT, random=False)\n",
        "    while True:\n",
        "        value = learner.value.copy()\n",
        "        learner.update_value()\n",
        "        new_value = learner.value\n",
        "        if np.sum(np.abs(value - new_value)) < 1e-4:\n",
        "            learner.plot_value()\n",
        "            break"
      ],
      "execution_count": 0,
      "outputs": []
    },
    {
      "cell_type": "code",
      "metadata": {
        "id": "y2iKlWeS6JQG",
        "colab_type": "code",
        "colab": {}
      },
      "source": [
        "SHAPE = (5,5)\n",
        "A = np.array([0, 1])\n",
        "A_PRIME = np.array([4, 1])\n",
        "B = np.array([0, 3])\n",
        "B_PRIME = np.array([2, 3])\n",
        "DISCOUNT = 0.9\n",
        "\n",
        "m = Maze(shape=SHAPE)\n",
        "m.add_reward(A, 10)\n",
        "m.add_reward(B, 5)\n",
        "m.add_hop(A, A_PRIME)\n",
        "m.add_hop(B, B_PRIME)"
      ],
      "execution_count": 0,
      "outputs": []
    },
    {
      "cell_type": "code",
      "metadata": {
        "id": "QcZW059uTAq3",
        "colab_type": "code",
        "colab": {
          "base_uri": "https://localhost:8080/",
          "height": 270
        },
        "outputId": "71ed406b-6f2f-401b-e3cb-38b5c83ee672"
      },
      "source": [
        "figure_3_2(maze=m)"
      ],
      "execution_count": 7,
      "outputs": [
        {
          "output_type": "display_data",
          "data": {
            "image/png": "[encoded data removed]",
            "text/plain": [
              "<Figure size 432x288 with 1 Axes>"
            ]
          },
          "metadata": {
            "tags": []
          }
        }
      ]
    },
    {
      "cell_type": "code",
      "metadata": {
        "id": "NvZglYbNTEPz",
        "colab_type": "code",
        "colab": {
          "base_uri": "https://localhost:8080/",
          "height": 270
        },
        "outputId": "dbe7bd98-def1-4e98-e360-72520c6aaf56"
      },
      "source": [
        "figure_3_5(maze=m)"
      ],
      "execution_count": 8,
      "outputs": [
        {
          "output_type": "display_data",
          "data": {
            "image/png": "[encoded data removed]",
            "text/plain": [
              "<Figure size 432x288 with 1 Axes>"
            ]
          },
          "metadata": {
            "tags": []
          }
        }
      ]
    }
  ]
}